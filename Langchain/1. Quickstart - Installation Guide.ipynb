{
 "cells": [
  {
   "cell_type": "markdown",
   "id": "8ba01263",
   "metadata": {},
   "source": [
    "### To install Langchain: https://python.langchain.com/docs/get_started/introduction"
   ]
  },
  {
   "cell_type": "code",
   "execution_count": 1,
   "id": "efbbdb8f",
   "metadata": {},
   "outputs": [],
   "source": [
    "from langchain_community.llms import Ollama\n",
    "llm = Ollama(model=\"llama2\")"
   ]
  },
  {
   "cell_type": "code",
   "execution_count": 2,
   "id": "8ebb2725",
   "metadata": {},
   "outputs": [
    {
     "data": {
      "text/plain": [
       "Ollama()"
      ]
     },
     "execution_count": 2,
     "metadata": {},
     "output_type": "execute_result"
    }
   ],
   "source": [
    "llm"
   ]
  },
  {
   "cell_type": "markdown",
   "id": "95b6d30f",
   "metadata": {},
   "source": [
    "### To install openAI: https://platform.openai.com/docs/libraries"
   ]
  },
  {
   "cell_type": "code",
   "execution_count": 3,
   "id": "bea1c214",
   "metadata": {},
   "outputs": [],
   "source": [
    "from openai import OpenAI"
   ]
  },
  {
   "cell_type": "markdown",
   "id": "53571525",
   "metadata": {},
   "source": [
    "### To install HuggingFace-Hub: https://pypi.org/project/huggingface-hub/"
   ]
  },
  {
   "cell_type": "code",
   "execution_count": 4,
   "id": "7e07f83d",
   "metadata": {},
   "outputs": [],
   "source": [
    "from huggingface_hub import hf_hub_download"
   ]
  }
 ],
 "metadata": {
  "kernelspec": {
   "display_name": "Python 3 (ipykernel)",
   "language": "python",
   "name": "python3"
  },
  "language_info": {
   "codemirror_mode": {
    "name": "ipython",
    "version": 3
   },
   "file_extension": ".py",
   "mimetype": "text/x-python",
   "name": "python",
   "nbconvert_exporter": "python",
   "pygments_lexer": "ipython3",
   "version": "3.11.4"
  }
 },
 "nbformat": 4,
 "nbformat_minor": 5
}
